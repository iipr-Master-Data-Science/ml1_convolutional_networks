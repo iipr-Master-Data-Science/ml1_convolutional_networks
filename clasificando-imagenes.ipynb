{
 "cells": [
  {
   "cell_type": "markdown",
   "metadata": {},
   "source": [
    "# Machine Learning I - Assignment 04\n",
    "- **Master in Data Science** - UC, UIMP, CSIC.\n",
    "- **Subject**: Machine Learning I.\n",
    "- **Assignment 04**: Keras for image classification\n",
    "- **Author**: Ignacio Iker Prado Rujas.\n",
    "\n",
    "The purpose of this exercise is to classify a set of images into 2 categories using Keras."
   ]
  },
  {
   "cell_type": "code",
   "execution_count": 1,
   "metadata": {},
   "outputs": [
    {
     "name": "stderr",
     "output_type": "stream",
     "text": [
      "Using TensorFlow backend.\n"
     ]
    },
    {
     "data": {
      "text/plain": [
       "'2.2.4'"
      ]
     },
     "execution_count": 1,
     "metadata": {},
     "output_type": "execute_result"
    }
   ],
   "source": [
    "import keras\n",
    "keras.__version__"
   ]
  },
  {
   "cell_type": "markdown",
   "metadata": {},
   "source": [
    "# Utilizando convnets con datasets pequeños\n",
    "\n",
    "Lo primero que tienes que hacer es descargarte el dataset de https://lara.web.cern.ch/lara/train.zip en la terminal de Jupyter y descomprimirlo en la misma carpeta donde se encuentra esta libreta. \n",
    "\n",
    "Para descargar otro conjunto de datos desde imagenet se puede descargar la lista con las URL a las imágenes y usar `wget -i`\n",
    "\n",
    "\n",
    "\n",
    "## Entrenando desde 0 una convNet\n",
    "\n",
    "Entrenar un modelo de clasificación de imágenes con muy pocos datos es una situación común en la que te encontrarás si acabas dedicándote a hacer Computer Vision en un contexto profesional. \n",
    "\n",
    "Tener \"pocas\" muestras puede significar cualquier cosa entre unos pocos cientos y unas pocas decenas de miles de imágenes. Vamos a ilustrar aqui un ejemplo práctico: vamos a centrarnos en clasificar imágenes como \"perros\" y \"gatos\".\n"
   ]
  },
  {
   "cell_type": "markdown",
   "metadata": {},
   "source": [
    "## La relevancia del Deep Learning en problemas con pocos datos\n",
    "\n",
    "Quizás habrás oido muchas veces que el Deep Learning solo funciona cuando se tienen grandes cantidades de datos. Esto en parte es verdad: una de las características del Deep learning es que puede encontrar características interesantes a partir del dataset de entrenamiento por si mismo, y esto a priori es más sencillo cuando se tienen muchos ejemplos disponibles, especialmente en el caso de tener datasets de input con una alta dimensionalidad, como es el caso de las imágenes.\n",
    "\n",
    "Sin embargo, lo que constituye un dataset \"grande\" es relativo. Concretamente relativo al tamaño y la profundidad de la red que estamos intentando entrenar. No es posible entenar una convNet para que resuelva un problema completo con solo unas decenas de ejemplos, pero unos pocos cientos puede ser suficiente si el modelo está bien montado (entenderemos que significa bien \"montado\" a lo largo del curso de Deep Learning).\n",
    "\n",
    "Como las convNets aprenden características locales, invariantes bajo translaciones, son muy eficientes en cuanto al número de imágenes necesarias para llevar a cabo problemas perceptuales. Así que entrenar una convnet desde 0 con un dataset no muy grande aún nos puede llevar a resultados razonables como veremos aqui.\n",
    "\n",
    "Pero hay más aún: los modelos de Deep Learning son altamente \"reciclables\". Uno puede coger, por ejemplo, un problema de clasificación de imagen y un convertidor de voz a texto entrenado sobre un dataset muy grande y luego reutilizarlo para resolver otro problema completamente distinto solo añadiéndole pequeñas modificaciones. Más especificamente, en el caso de Computer Vision, muchos modelos pre-entrenados (normalmente entrenados en el dataset ImageNet) son hechos publicos para que uno pueda descargarlos y utilizarlos para crear potentes modelos de Computer Vision con muy pocos datos. \n",
    "\n",
    "Pero aqui nos vamos a limitar a correr un ejemplo sencillito. \n"
   ]
  },
  {
   "cell_type": "markdown",
   "metadata": {},
   "source": [
    "## Los datos\n",
    "\n",
    "El dataset de gatos vs perros que utilizamos no es un paquete de Keras. Se publicó en Kaggle.com como parte de un problema de Computer Vision a finales de 2013, cuando todavía las ConvNets no eran tan populares. \n",
    "\n",
    "Las imágenes son JPGEs de resolución media. Tiene este aspecto:\n",
    "\n",
    "![cats_vs_dogs_samples](https://s3.amazonaws.com/book.keras.io/img/ch5/cats_vs_dogs_samples.jpg)"
   ]
  },
  {
   "cell_type": "markdown",
   "metadata": {},
   "source": [
    "No es ninguna sorpresa que la competición de gatos vs perros de Kaggle en 2013 fuera ganada por ConvNets. Los mejores pudieron alcanzar una precisión de hasta 95%. En nuestro ejemplo vamos a quedarnos todavía lejos de esta precisión, pero durante el curso de Deep Learning hemos aprendido como acercarnos a este valor utilizando diversos métodos para mejorar el rendimiento de las redes neuronales. Hay que tener en cuenta que en este ejemplo estamos entrenando aproximadamente sobre solo el 10% de los datos que se utilizaron para el concurso. \n",
    "Después de descargar el dataset y descomprimirlo, vamos a crear un nuevo dataset que contiene tres subsets: un set de training que contiene 1000 imágenes de cada clase, un set de validación con 500 imágenes de cada clase, y finalmente un set de test con 500 imágenes de cada clase.\n",
    "\n",
    "Aqui tenemos unas cuantas líneas de código que nos hacen este reparto automáticamente:\n",
    "\n"
   ]
  },
  {
   "cell_type": "code",
   "execution_count": 2,
   "metadata": {},
   "outputs": [],
   "source": [
    "import os, shutil"
   ]
  },
  {
   "cell_type": "code",
   "execution_count": 3,
   "metadata": {},
   "outputs": [],
   "source": [
    "# The path to the directory where the original\n",
    "# dataset was uncompressed\n",
    "original_dataset_dir = './train/'\n",
    "\n",
    "# The directory where we will\n",
    "# store our smaller dataset\n",
    "base_dir = './cats_and_dogs_small'\n",
    "os.mkdir(base_dir)\n",
    "\n",
    "# Directories for our training,\n",
    "# validation and test splits\n",
    "train_dir = os.path.join(base_dir, 'train')\n",
    "os.mkdir(train_dir)\n",
    "validation_dir = os.path.join(base_dir, 'validation')\n",
    "os.mkdir(validation_dir)\n",
    "test_dir = os.path.join(base_dir, 'test')\n",
    "os.mkdir(test_dir)\n",
    "\n",
    "# Directory with our training cat pictures\n",
    "train_cats_dir = os.path.join(train_dir, 'cats')\n",
    "os.mkdir(train_cats_dir)\n",
    "\n",
    "# Directory with our training dog pictures\n",
    "train_dogs_dir = os.path.join(train_dir, 'dogs')\n",
    "os.mkdir(train_dogs_dir)\n",
    "\n",
    "# Directory with our validation cat pictures\n",
    "validation_cats_dir = os.path.join(validation_dir, 'cats')\n",
    "os.mkdir(validation_cats_dir)\n",
    "\n",
    "# Directory with our validation dog pictures\n",
    "validation_dogs_dir = os.path.join(validation_dir, 'dogs')\n",
    "os.mkdir(validation_dogs_dir)\n",
    "\n",
    "# Directory with our test cat pictures\n",
    "test_cats_dir = os.path.join(test_dir, 'cats')\n",
    "os.mkdir(test_cats_dir)\n",
    "\n",
    "# Directory with our test dog pictures\n",
    "test_dogs_dir = os.path.join(test_dir, 'dogs')\n",
    "os.mkdir(test_dogs_dir)\n",
    "\n",
    "# Copy first 1000 cat images to train_cats_dir\n",
    "fnames = ['cat.{}.jpg'.format(i) for i in range(1000)]\n",
    "for fname in fnames:\n",
    "    src = os.path.join(original_dataset_dir, fname)\n",
    "    dst = os.path.join(train_cats_dir, fname)\n",
    "    shutil.copyfile(src, dst)\n",
    "\n",
    "# Copy next 500 cat images to validation_cats_dir\n",
    "fnames = ['cat.{}.jpg'.format(i) for i in range(1000, 1500)]\n",
    "for fname in fnames:\n",
    "    src = os.path.join(original_dataset_dir, fname)\n",
    "    dst = os.path.join(validation_cats_dir, fname)\n",
    "    shutil.copyfile(src, dst)\n",
    "    \n",
    "# Copy next 500 cat images to test_cats_dir\n",
    "fnames = ['cat.{}.jpg'.format(i) for i in range(1500, 2000)]\n",
    "for fname in fnames:\n",
    "    src = os.path.join(original_dataset_dir, fname)\n",
    "    dst = os.path.join(test_cats_dir, fname)\n",
    "    shutil.copyfile(src, dst)\n",
    "    \n",
    "# Copy first 1000 dog images to train_dogs_dir\n",
    "fnames = ['dog.{}.jpg'.format(i) for i in range(1000)]\n",
    "for fname in fnames:\n",
    "    src = os.path.join(original_dataset_dir, fname)\n",
    "    dst = os.path.join(train_dogs_dir, fname)\n",
    "    shutil.copyfile(src, dst)\n",
    "    \n",
    "# Copy next 500 dog images to validation_dogs_dir\n",
    "fnames = ['dog.{}.jpg'.format(i) for i in range(1000, 1500)]\n",
    "for fname in fnames:\n",
    "    src = os.path.join(original_dataset_dir, fname)\n",
    "    dst = os.path.join(validation_dogs_dir, fname)\n",
    "    shutil.copyfile(src, dst)\n",
    "    \n",
    "# Copy next 500 dog images to test_dogs_dir\n",
    "fnames = ['dog.{}.jpg'.format(i) for i in range(1500, 2000)]\n",
    "for fname in fnames:\n",
    "    src = os.path.join(original_dataset_dir, fname)\n",
    "    dst = os.path.join(test_dogs_dir, fname)\n",
    "    shutil.copyfile(src, dst)"
   ]
  },
  {
   "cell_type": "markdown",
   "metadata": {},
   "source": [
    "As a sanity check, let's count how many pictures we have in each training split (train/validation/test):"
   ]
  },
  {
   "cell_type": "code",
   "execution_count": 4,
   "metadata": {},
   "outputs": [
    {
     "name": "stdout",
     "output_type": "stream",
     "text": [
      "total training cat images: 1000\n"
     ]
    }
   ],
   "source": [
    "print('total training cat images:', len(os.listdir(train_cats_dir)))"
   ]
  },
  {
   "cell_type": "code",
   "execution_count": 5,
   "metadata": {},
   "outputs": [
    {
     "name": "stdout",
     "output_type": "stream",
     "text": [
      "total training dog images: 1000\n"
     ]
    }
   ],
   "source": [
    "print('total training dog images:', len(os.listdir(train_dogs_dir)))"
   ]
  },
  {
   "cell_type": "code",
   "execution_count": 6,
   "metadata": {},
   "outputs": [
    {
     "name": "stdout",
     "output_type": "stream",
     "text": [
      "total validation cat images: 500\n"
     ]
    }
   ],
   "source": [
    "print('total validation cat images:', len(os.listdir(validation_cats_dir)))"
   ]
  },
  {
   "cell_type": "code",
   "execution_count": 7,
   "metadata": {},
   "outputs": [
    {
     "name": "stdout",
     "output_type": "stream",
     "text": [
      "total validation dog images: 500\n"
     ]
    }
   ],
   "source": [
    "print('total validation dog images:', len(os.listdir(validation_dogs_dir)))"
   ]
  },
  {
   "cell_type": "code",
   "execution_count": 8,
   "metadata": {},
   "outputs": [
    {
     "name": "stdout",
     "output_type": "stream",
     "text": [
      "total test cat images: 500\n"
     ]
    }
   ],
   "source": [
    "print('total test cat images:', len(os.listdir(test_cats_dir)))"
   ]
  },
  {
   "cell_type": "code",
   "execution_count": 9,
   "metadata": {},
   "outputs": [
    {
     "name": "stdout",
     "output_type": "stream",
     "text": [
      "total test dog images: 500\n"
     ]
    }
   ],
   "source": [
    "print('total test dog images:', len(os.listdir(test_dogs_dir)))"
   ]
  },
  {
   "cell_type": "markdown",
   "metadata": {},
   "source": [
    "\n",
    "Así que efectivamente tenemos 2000 imágenes de entrenamiento, 1000 imágenes de validación y 1000 imágenes de test. En cada uno de estos subsets hay el mismo número de ejemplos de cada clase: esto es lo que se llama un sistema de clasificación binario balanceado, lo cual significa que nuestra precisión de clasificación será una métrica adecuada del éxito de nuestra solución."
   ]
  },
  {
   "cell_type": "markdown",
   "metadata": {},
   "source": [
    "## Construyendo nuestra red\n",
    "\n",
    "En el anterior ejemplo hemos construido una pequeña convnet para resolver el problema de clasificar números escritos a mano usando el dataset MNIST, así que ya estamos familiarizados con la terminología que utiliza keras. Vamos a reutilizar la estructura general que teniamos en el ejemplo anterior: nuestra convNet tendra una pila de capas alternadas de `Conv2D` (con activación `relu` ) y capas  `MaxPooling2D`.\n",
    "\n",
    "Sin embargo, como estamos tratando con imágenes mayores y un problema más complejo, vamos a crear nuestra red en consecuencia: tendrá una capa más de `Conv2D` + `MaxPooling2D`. Esto sirve para aumentar la capacidad de la red y para reducir aún más el tamaño de los mapas de características, para que no sean tan enormes cuando lleguen al paso de aplanado. Empezamos usando imágenes de input de 150x150 (una elección arbitraria), y acabaremos con mapas de características que tienen un tamaño de 7x7 antes de la capa de aplanamiento.\n",
    "\n",
    "Es importante tener en cuenta que la profundidad de los mapas de características va creciendo progresivamente según se avanza en la red neuronales ( de 32 a 128) mientras que el tamaño de los mapas de características va disminuyendo (de 148x148 a 7x7). Este patrón lo verás en casi todas las convNets.\n",
    "\n",
    "Como estamos atacando un problema de clasificación binaria (perro o gato), vamos a acabar la red con una única unidad (una capa densa de tamaño 1) y con una activación sigmoide. Esta unidad codificará la probabilidad de que nuestra red esté mirando a una clase o a otra.\n",
    "\n",
    "El aspecto final del modelo debe de ser el siguiente:\n",
    "\n",
    "![modelo_red_animales.png](https://github.com/laramaktub/MachineLearningI/blob/master/modelo_red_animales.png?raw=true)"
   ]
  },
  {
   "cell_type": "code",
   "execution_count": 10,
   "metadata": {},
   "outputs": [
    {
     "name": "stdout",
     "output_type": "stream",
     "text": [
      "_________________________________________________________________\n",
      "Layer (type)                 Output Shape              Param #   \n",
      "=================================================================\n",
      "conv2d_1 (Conv2D)            (None, 148, 148, 32)      896       \n",
      "_________________________________________________________________\n",
      "max_pooling2d_1 (MaxPooling2 (None, 74, 74, 32)        0         \n",
      "_________________________________________________________________\n",
      "conv2d_2 (Conv2D)            (None, 72, 72, 64)        18496     \n",
      "_________________________________________________________________\n",
      "max_pooling2d_2 (MaxPooling2 (None, 36, 36, 64)        0         \n",
      "_________________________________________________________________\n",
      "conv2d_3 (Conv2D)            (None, 34, 34, 128)       73856     \n",
      "_________________________________________________________________\n",
      "max_pooling2d_3 (MaxPooling2 (None, 17, 17, 128)       0         \n",
      "_________________________________________________________________\n",
      "conv2d_4 (Conv2D)            (None, 15, 15, 128)       147584    \n",
      "_________________________________________________________________\n",
      "max_pooling2d_4 (MaxPooling2 (None, 7, 7, 128)         0         \n",
      "_________________________________________________________________\n",
      "flatten_1 (Flatten)          (None, 6272)              0         \n",
      "_________________________________________________________________\n",
      "dense_1 (Dense)              (None, 512)               3211776   \n",
      "_________________________________________________________________\n",
      "dense_2 (Dense)              (None, 1)                 513       \n",
      "=================================================================\n",
      "Total params: 3,453,121\n",
      "Trainable params: 3,453,121\n",
      "Non-trainable params: 0\n",
      "_________________________________________________________________\n"
     ]
    }
   ],
   "source": [
    "from keras import layers\n",
    "from keras import models\n",
    "\n",
    "model = models.Sequential()\n",
    "model.add(layers.Conv2D(32, (3, 3), activation='relu',\n",
    "                        input_shape=(150, 150, 3)))\n",
    "model.add(layers.MaxPooling2D((2, 2)))\n",
    "model.add(layers.Conv2D(64, (3, 3), activation='relu'))\n",
    "model.add(layers.MaxPooling2D((2, 2)))\n",
    "model.add(layers.Conv2D(128, (3, 3), activation='relu'))\n",
    "model.add(layers.MaxPooling2D((2, 2)))\n",
    "model.add(layers.Conv2D(128, (3, 3), activation='relu'))\n",
    "model.add(layers.MaxPooling2D((2, 2)))\n",
    "model.add(layers.Flatten())\n",
    "model.add(layers.Dense(512, activation='relu'))\n",
    "model.add(layers.Dense(1, activation='sigmoid'))\n",
    "\n",
    "model.summary()"
   ]
  },
  {
   "cell_type": "markdown",
   "metadata": {},
   "source": [
    "Para el paso de compilación utilizaremos el optimizador `RMSprop`(lr=1e-4). Como nuestra red termina con una única unidad sigmoide, vamos a utilizar binary crossentropy como nuestra función de pérdida."
   ]
  },
  {
   "cell_type": "code",
   "execution_count": 12,
   "metadata": {},
   "outputs": [],
   "source": [
    "from keras import optimizers\n",
    "\n",
    "model.compile(optimizer=optimizers.RMSprop(lr=1e-4), \n",
    "              loss='binary_crossentropy', metrics=['acc'])"
   ]
  },
  {
   "cell_type": "markdown",
   "metadata": {},
   "source": [
    "##  Preprocesado de datos\n",
    "\n",
    "Las imágenes deben estar formateadas apropiadamente en tensores de flotantes antes de dárselas a la red. Esto es justo lo que vamos a hacer aqui. Antes de preprocesarlas las imágenes son archivos JPEG. Los pasos para poder darlos a nuestra red son a grandes rasgos:\n",
    "\n",
    "* Leer los archivos con las imágenes.\n",
    "* Decodificar el contenido del JPEG en una \"parrilla\" con el RGB de los pixels \n",
    "* Convertir esa \"parrilla\" en tensores de flotantes\n",
    "* Re-escalar los valores de los pixels (enre 0 y 255) al intervalo [0, 1] ya que las redes neuronales prefieren trabajar con valores pequeños. \n",
    "\n",
    "Todo esto puede parecer muy complicado pero gracias a Keras nuestra vida es mucho más fácil y podemos contar con sus herramientas para ocuparse de estos pasos automaticamente. Keras tiene un módulo con herramientas para el tratamiento de imágenes, que se puede encontrar en  `keras.preprocessing.image`. En particular, contiene la clase `ImageDataGenerator` que nos permite automaticamente convertir imágenes que tengamos en el disco duro en tensores pre-procesados. Esto es justamente lo que usaremos a continuación. Para ello podemos utilizar el `flow_from_directory` para coger las imágenes directamente de las carpetas que generamos previamente. Le damos como entrada las carpetas donde están las imágenes de entrenamiento (o validación), el tamaño de las imágenes (target_size), tamaño del batch que vamos a usar (vamos a empezar por 20) y como solo hay dos categorías, le decimos que vamos a usar `binary_crossentropy` (`class_mode`). Al correr estos comandos obtendremos el número total de imágenes y cuantas clases hay."
   ]
  },
  {
   "cell_type": "code",
   "execution_count": 15,
   "metadata": {},
   "outputs": [
    {
     "name": "stdout",
     "output_type": "stream",
     "text": [
      "Found 2000 images belonging to 2 classes.\n",
      "Found 1000 images belonging to 2 classes.\n"
     ]
    }
   ],
   "source": [
    "from keras.preprocessing.image import ImageDataGenerator\n",
    "\n",
    "# Re-escalamos las imagenes\n",
    "train_datagen = ImageDataGenerator(rescale=1./255)\n",
    "test_datagen = ImageDataGenerator(rescale=1./255)\n",
    "\n",
    "train_generator = train_datagen.flow_from_directory(directory=train_dir,\n",
    "                                                    target_size=(150, 150),\n",
    "                                                    batch_size=20,\n",
    "                                                    class_mode='binary')\n",
    "\n",
    "validation_generator = test_datagen.flow_from_directory(directory=validation_dir,\n",
    "                                                        target_size=(150, 150),\n",
    "                                                        batch_size=20,\n",
    "                                                        class_mode='binary')"
   ]
  },
  {
   "cell_type": "markdown",
   "metadata": {},
   "source": [
    "Vamos a echar un vistazo a uno de estos generadores: nos lleva a un batch de 150x150 imágenes RGB (dimensiones `(20, 150, 150, 3)`) y etiquetas binarias (dimensión `(20,)`). 20 es el número de ejemplos en cada batch (lo que llamamos el tamaño del batch). El generador genera estos batches de manera indefinida: corre un bucle sin cesar por todas las imágenes que tengamos en la carpeta. Por eso tenemos que escribir `break` para romper el bucle en algún momento.\n"
   ]
  },
  {
   "cell_type": "code",
   "execution_count": 16,
   "metadata": {},
   "outputs": [
    {
     "name": "stdout",
     "output_type": "stream",
     "text": [
      "data batch shape: (20, 150, 150, 3)\n",
      "labels batch shape: (20,)\n"
     ]
    }
   ],
   "source": [
    "for data_batch, labels_batch in train_generator:\n",
    "    print('data batch shape:', data_batch.shape)\n",
    "    print('labels batch shape:', labels_batch.shape)\n",
    "    break"
   ]
  },
  {
   "cell_type": "markdown",
   "metadata": {},
   "source": [
    "## Entrenando la red "
   ]
  },
  {
   "cell_type": "markdown",
   "metadata": {},
   "source": [
    "Ahora vamos a hacer el fit. En este caso, como lo que tenemos es un generator, utilizamos `fit_generator`. Vamos a correr 30 épocas y a utilizar el dataset de validación."
   ]
  },
  {
   "cell_type": "code",
   "execution_count": 20,
   "metadata": {},
   "outputs": [
    {
     "name": "stdout",
     "output_type": "stream",
     "text": [
      "Epoch 1/30\n",
      "100/100 [==============================] - 128s 1s/step - loss: 0.6906 - acc: 0.5395 - val_loss: 0.6763 - val_acc: 0.5540\n",
      "Epoch 2/30\n",
      "100/100 [==============================] - 124s 1s/step - loss: 0.6609 - acc: 0.6105 - val_loss: 0.6473 - val_acc: 0.6180\n",
      "Epoch 3/30\n",
      "100/100 [==============================] - 122s 1s/step - loss: 0.6159 - acc: 0.6680 - val_loss: 0.6086 - val_acc: 0.6800\n",
      "Epoch 4/30\n",
      "100/100 [==============================] - 123s 1s/step - loss: 0.5721 - acc: 0.7050 - val_loss: 0.5807 - val_acc: 0.6980\n",
      "Epoch 5/30\n",
      "100/100 [==============================] - 105s 1s/step - loss: 0.5268 - acc: 0.7285 - val_loss: 0.5652 - val_acc: 0.7000\n",
      "Epoch 6/30\n",
      "100/100 [==============================] - 103s 1s/step - loss: 0.5011 - acc: 0.7515 - val_loss: 0.5722 - val_acc: 0.7020\n",
      "Epoch 7/30\n",
      "100/100 [==============================] - 134s 1s/step - loss: 0.4713 - acc: 0.7715 - val_loss: 0.5687 - val_acc: 0.7050\n",
      "Epoch 8/30\n",
      "100/100 [==============================] - 137s 1s/step - loss: 0.4346 - acc: 0.7870 - val_loss: 0.6044 - val_acc: 0.6940\n",
      "Epoch 9/30\n",
      "100/100 [==============================] - 136s 1s/step - loss: 0.4218 - acc: 0.8055 - val_loss: 0.6482 - val_acc: 0.6960\n",
      "Epoch 10/30\n",
      "100/100 [==============================] - 136s 1s/step - loss: 0.3871 - acc: 0.8305 - val_loss: 0.5568 - val_acc: 0.7230\n",
      "Epoch 11/30\n",
      "100/100 [==============================] - 137s 1s/step - loss: 0.3671 - acc: 0.8310 - val_loss: 0.5711 - val_acc: 0.7100\n",
      "Epoch 12/30\n",
      "100/100 [==============================] - 137s 1s/step - loss: 0.3386 - acc: 0.8495 - val_loss: 0.5977 - val_acc: 0.7280\n",
      "Epoch 13/30\n",
      "100/100 [==============================] - 143s 1s/step - loss: 0.3247 - acc: 0.8530 - val_loss: 0.5799 - val_acc: 0.7250\n",
      "Epoch 14/30\n",
      "100/100 [==============================] - 144s 1s/step - loss: 0.2975 - acc: 0.8720 - val_loss: 0.5790 - val_acc: 0.7330\n",
      "Epoch 15/30\n",
      "100/100 [==============================] - 148s 1s/step - loss: 0.2826 - acc: 0.8800 - val_loss: 0.5855 - val_acc: 0.7390\n",
      "Epoch 16/30\n",
      "100/100 [==============================] - 145s 1s/step - loss: 0.2545 - acc: 0.8950 - val_loss: 0.6541 - val_acc: 0.7280\n",
      "Epoch 17/30\n",
      "100/100 [==============================] - 170s 2s/step - loss: 0.2336 - acc: 0.9080 - val_loss: 0.6383 - val_acc: 0.7320\n",
      "Epoch 18/30\n",
      "100/100 [==============================] - 143s 1s/step - loss: 0.2233 - acc: 0.9140 - val_loss: 0.6320 - val_acc: 0.7350\n",
      "Epoch 19/30\n",
      "100/100 [==============================] - 180s 2s/step - loss: 0.1905 - acc: 0.9355 - val_loss: 0.6463 - val_acc: 0.7310\n",
      "Epoch 20/30\n",
      "100/100 [==============================] - 173s 2s/step - loss: 0.1651 - acc: 0.9445 - val_loss: 0.7144 - val_acc: 0.7160\n",
      "Epoch 21/30\n",
      "100/100 [==============================] - 180s 2s/step - loss: 0.1540 - acc: 0.9480 - val_loss: 0.7487 - val_acc: 0.7110\n",
      "Epoch 22/30\n",
      "100/100 [==============================] - 182s 2s/step - loss: 0.1365 - acc: 0.9575 - val_loss: 0.7733 - val_acc: 0.7190\n",
      "Epoch 23/30\n",
      "100/100 [==============================] - 181s 2s/step - loss: 0.1217 - acc: 0.9650 - val_loss: 0.8239 - val_acc: 0.7130\n",
      "Epoch 24/30\n",
      "100/100 [==============================] - 179s 2s/step - loss: 0.1086 - acc: 0.9645 - val_loss: 0.7686 - val_acc: 0.7240\n",
      "Epoch 25/30\n",
      "100/100 [==============================] - 180s 2s/step - loss: 0.0871 - acc: 0.9730 - val_loss: 0.9580 - val_acc: 0.7130\n",
      "Epoch 26/30\n",
      "100/100 [==============================] - 135s 1s/step - loss: 0.0744 - acc: 0.9760 - val_loss: 0.9042 - val_acc: 0.7240\n",
      "Epoch 27/30\n",
      "100/100 [==============================] - 88s 879ms/step - loss: 0.0705 - acc: 0.9785 - val_loss: 0.9502 - val_acc: 0.7310\n",
      "Epoch 28/30\n",
      "100/100 [==============================] - 89s 889ms/step - loss: 0.0544 - acc: 0.9840 - val_loss: 0.9746 - val_acc: 0.7330\n",
      "Epoch 29/30\n",
      "100/100 [==============================] - 90s 897ms/step - loss: 0.0468 - acc: 0.9880 - val_loss: 1.2921 - val_acc: 0.6880\n",
      "Epoch 30/30\n",
      "100/100 [==============================] - 96s 957ms/step - loss: 0.0416 - acc: 0.9900 - val_loss: 1.0155 - val_acc: 0.7280\n"
     ]
    }
   ],
   "source": [
    "history = model.fit_generator(generator=train_generator,\n",
    "                              steps_per_epoch=100,\n",
    "                              epochs=30,\n",
    "                              validation_data=validation_generator,\n",
    "                              validation_steps=50)"
   ]
  },
  {
   "cell_type": "markdown",
   "metadata": {
    "collapsed": true
   },
   "source": [
    "Es una buena idea guardar el modelo después de entrenar:"
   ]
  },
  {
   "cell_type": "code",
   "execution_count": 21,
   "metadata": {},
   "outputs": [],
   "source": [
    "model.save('net_cats_dogs.h5')"
   ]
  },
  {
   "cell_type": "markdown",
   "metadata": {},
   "source": [
    "Ahora evalua el modelo en el dataset de test."
   ]
  },
  {
   "cell_type": "code",
   "execution_count": 33,
   "metadata": {},
   "outputs": [
    {
     "name": "stdout",
     "output_type": "stream",
     "text": [
      "Found 1000 images belonging to 2 classes.\n"
     ]
    }
   ],
   "source": [
    "test_generator = test_datagen.flow_from_directory(directory=test_dir,\n",
    "                                                  target_size=(150, 150),\n",
    "                                                  batch_size=100,\n",
    "                                                  class_mode='binary')"
   ]
  },
  {
   "cell_type": "code",
   "execution_count": 43,
   "metadata": {},
   "outputs": [
    {
     "name": "stdout",
     "output_type": "stream",
     "text": [
      "10/10 [==============================] - 20s 2s/step\n"
     ]
    }
   ],
   "source": [
    "test_loss, test_acc = model.evaluate_generator(generator=test_generator, \n",
    "                                               steps=None, verbose=1)"
   ]
  },
  {
   "cell_type": "code",
   "execution_count": 44,
   "metadata": {},
   "outputs": [
    {
     "name": "stdout",
     "output_type": "stream",
     "text": [
      "Con el conjunto de test, las perdidas son 0.9838724851608276, y el accuracy 0.7290000021457672\n"
     ]
    }
   ],
   "source": [
    "print('Con el conjunto de test, las perdidas son {0}, y el accuracy {1}'.format(test_loss, test_acc))"
   ]
  },
  {
   "cell_type": "markdown",
   "metadata": {},
   "source": [
    "Prueba a optimizar la red. Para ello puedes utilizar las herramientas utilizadas en clase. Puedes probar a optimizar en términos de velocidad y de accuracy. Comenta los resultados."
   ]
  },
  {
   "cell_type": "code",
   "execution_count": null,
   "metadata": {},
   "outputs": [],
   "source": []
  },
  {
   "cell_type": "markdown",
   "metadata": {},
   "source": [
    "# Ahora con bicicletas y motos"
   ]
  },
  {
   "cell_type": "markdown",
   "metadata": {},
   "source": [
    "## Los datos"
   ]
  },
  {
   "cell_type": "markdown",
   "metadata": {},
   "source": [
    "Descargamos datos desde ImageNet. Para ello podemos ejecutar estas líneas como un script de bash:\n",
    "```\n",
    "#!/bin/bash\n",
    "\n",
    "mkdir -p wheels/scooters\n",
    "cd wheels/scooters\n",
    "wget -i http://www.image-net.org/api/text/imagenet.synset.geturls?wnid=n03791053 --timeout=5 --tries=2\n",
    "    \n",
    "mkdir ../bicycles\n",
    "cd ../bicycles\n",
    "wget -i http://www.image-net.org/api/text/imagenet.synset.geturls?wnid=n03792782 --timeout=5 --tries=2\n",
    "```\n",
    "\n",
    "Aquí es importante destacar que `wget` tiene [por defecto](https://stackoverflow.com/questions/2291524/does-wget-timeout) un `timeout` de 900 segundos. Con varios cientos de imágenes como tenemos, no podemos permitirnos esperar tanto para cada una de ellas que no esté disponible o esté alojada en un servidor lento, por lo tanto lo rebajamos a 5 segundos. También, fijamos a 2 el número de veces que se reintenta descargar una imagen tras un error."
   ]
  },
  {
   "cell_type": "code",
   "execution_count": 3,
   "metadata": {},
   "outputs": [
    {
     "name": "stdout",
     "output_type": "stream",
     "text": [
      "983\n",
      "949\n"
     ]
    }
   ],
   "source": [
    "!ls -l ./wheels/bicycles/ | wc -l\n",
    "!ls -l ./wheels/scooters/ | wc -l"
   ]
  },
  {
   "cell_type": "markdown",
   "metadata": {},
   "source": [
    "El número de scooters y de bicletas está bastante equilibrado. La pinta que tienen las imágenes es esta:\n",
    "\n",
    "![bike1](https://farm2.static.flickr.com/1350/659758592_106cd4c7e6.jpg)\n",
    "![scooter1](http://farm3.static.flickr.com/2230/1627734819_cde36c4e4b.jpg)\n",
    "\n",
    "Ahora, reutilizamos el código anterior para separarlas en train-validation-test:"
   ]
  },
  {
   "cell_type": "code",
   "execution_count": 4,
   "metadata": {},
   "outputs": [
    {
     "name": "stdout",
     "output_type": "stream",
     "text": [
      "Hay 70 imágenes de bicicletas rotas, y 60 de scooters\n"
     ]
    }
   ],
   "source": [
    "import glob\n",
    "from PIL import Image\n",
    "\n",
    "# The path to the directory where the original dataset was uncompressed\n",
    "original_dataset_dir = './wheels/'\n",
    "\n",
    "# The directory where we will store our smaller dataset\n",
    "base_dir = './bikes_and_scooters'\n",
    "os.mkdir(base_dir)\n",
    "\n",
    "# Directories for our training, validation and test splits\n",
    "train_dir = os.path.join(base_dir, 'train')\n",
    "os.mkdir(train_dir)\n",
    "validation_dir = os.path.join(base_dir, 'validation')\n",
    "os.mkdir(validation_dir)\n",
    "test_dir = os.path.join(base_dir, 'test')\n",
    "os.mkdir(test_dir)\n",
    "\n",
    "# Directory with our training bikes pictures\n",
    "train_bikes_dir = os.path.join(train_dir, 'bikes')\n",
    "os.mkdir(train_bikes_dir)\n",
    "\n",
    "# Directory with our training scooters pictures\n",
    "train_scooters_dir = os.path.join(train_dir, 'scooters')\n",
    "os.mkdir(train_scooters_dir)\n",
    "\n",
    "# Directory with our validation bikes pictures\n",
    "validation_bikes_dir = os.path.join(validation_dir, 'bikes')\n",
    "os.mkdir(validation_bikes_dir)\n",
    "\n",
    "# Directory with our validation scooters pictures\n",
    "validation_scooters_dir = os.path.join(validation_dir, 'scooters')\n",
    "os.mkdir(validation_scooters_dir)\n",
    "\n",
    "# Directory with our test bikes pictures\n",
    "test_bikes_dir = os.path.join(test_dir, 'bikes')\n",
    "os.mkdir(test_bikes_dir)\n",
    "\n",
    "# Directory with our test scooters pictures\n",
    "test_scooters_dir = os.path.join(test_dir, 'scooters')\n",
    "os.mkdir(test_scooters_dir)\n",
    "\n",
    "# Copy first 500 bike images to train_bikes_dir,\n",
    "# next 250 to validation_bikes_dir and last ones to test_bikes_dir\n",
    "bad_bikes = []\n",
    "target_dir = train_bikes_dir\n",
    "for idx, fpath in enumerate(glob.glob(original_dataset_dir + 'bicycles/*')):\n",
    "    if idx == 500:\n",
    "        target_dir = validation_bikes_dir\n",
    "    elif idx == 750:\n",
    "        target_dir = test_bikes_dir\n",
    "    try:\n",
    "        img = Image.open(fpath)\n",
    "        img.verify()\n",
    "    except(IOError, SyntaxError) as e:\n",
    "        bad_bikes.append(fpath)\n",
    "        continue\n",
    "    dst = os.path.join(target_dir, '{}.jpg'.format(idx))\n",
    "    shutil.copyfile(fpath, dst)\n",
    "\n",
    "# Copy first 500 scooter images to train_scooter_dir,\n",
    "# next 250 to validation_scooter_dir and last ones to test_scooter_dir\n",
    "bad_scooters = []\n",
    "target_dir = train_scooters_dir\n",
    "for idx, fpath in enumerate(glob.glob(original_dataset_dir + 'scooters/*')):\n",
    "    if idx == 500:\n",
    "        target_dir = validation_scooters_dir\n",
    "    elif idx == 750:\n",
    "        target_dir = test_scooters_dir\n",
    "    try:\n",
    "        img = Image.open(fpath)\n",
    "        img.verify()\n",
    "    except(IOError, SyntaxError) as e:\n",
    "        bad_scooters.append(fpath)\n",
    "        continue\n",
    "    dst = os.path.join(target_dir, '{}.jpg'.format(idx))\n",
    "    shutil.copyfile(fpath, dst)\n",
    "    \n",
    "\n",
    "print('Hay {} imágenes de bicicletas rotas, y {} de scooters'.format(len(bad_bikes), len(bad_scooters)))"
   ]
  },
  {
   "cell_type": "markdown",
   "metadata": {},
   "source": [
    "Hemos evitado copiar las imágenes que no se podían abrir como tal.  \n",
    "Cabe destacar que a pesar de filtrar las imágenes rotas, hay algunas que están vacías o son erróneas, o incluso contienen gifs como este:\n",
    "![bike1](http://www.soccorritoripeda.it/ItinerariMTB/FotoSlide/Slide.gif)\n",
    "\n",
    "Sanity check (veamos las  proporciones train-validation-test):"
   ]
  },
  {
   "cell_type": "code",
   "execution_count": 5,
   "metadata": {},
   "outputs": [
    {
     "name": "stdout",
     "output_type": "stream",
     "text": [
      "467\n",
      "473\n",
      "230\n",
      "233\n",
      "218\n",
      "185\n"
     ]
    }
   ],
   "source": [
    "!ls -l ./bikes_and_scooters/train/bikes/ | wc -l\n",
    "!ls -l ./bikes_and_scooters/train/scooters/ | wc -l\n",
    "!ls -l ./bikes_and_scooters/validation/bikes/ | wc -l\n",
    "!ls -l ./bikes_and_scooters/validation/scooters/ | wc -l\n",
    "!ls -l ./bikes_and_scooters/test/bikes/ | wc -l\n",
    "!ls -l ./bikes_and_scooters/test/scooters/ | wc -l"
   ]
  },
  {
   "cell_type": "markdown",
   "metadata": {},
   "source": [
    "## Construyendo la red"
   ]
  },
  {
   "cell_type": "markdown",
   "metadata": {},
   "source": [
    "Vamos a intentar volver a utilizar la topología del modelo anterior:"
   ]
  },
  {
   "cell_type": "code",
   "execution_count": 7,
   "metadata": {},
   "outputs": [
    {
     "name": "stdout",
     "output_type": "stream",
     "text": [
      "_________________________________________________________________\n",
      "Layer (type)                 Output Shape              Param #   \n",
      "=================================================================\n",
      "conv2d_1 (Conv2D)            (None, 148, 148, 32)      896       \n",
      "_________________________________________________________________\n",
      "max_pooling2d_1 (MaxPooling2 (None, 74, 74, 32)        0         \n",
      "_________________________________________________________________\n",
      "conv2d_2 (Conv2D)            (None, 72, 72, 64)        18496     \n",
      "_________________________________________________________________\n",
      "max_pooling2d_2 (MaxPooling2 (None, 36, 36, 64)        0         \n",
      "_________________________________________________________________\n",
      "conv2d_3 (Conv2D)            (None, 34, 34, 128)       73856     \n",
      "_________________________________________________________________\n",
      "max_pooling2d_3 (MaxPooling2 (None, 17, 17, 128)       0         \n",
      "_________________________________________________________________\n",
      "conv2d_4 (Conv2D)            (None, 15, 15, 128)       147584    \n",
      "_________________________________________________________________\n",
      "max_pooling2d_4 (MaxPooling2 (None, 7, 7, 128)         0         \n",
      "_________________________________________________________________\n",
      "flatten_1 (Flatten)          (None, 6272)              0         \n",
      "_________________________________________________________________\n",
      "dense_1 (Dense)              (None, 512)               3211776   \n",
      "_________________________________________________________________\n",
      "dense_2 (Dense)              (None, 1)                 513       \n",
      "=================================================================\n",
      "Total params: 3,453,121\n",
      "Trainable params: 3,453,121\n",
      "Non-trainable params: 0\n",
      "_________________________________________________________________\n"
     ]
    }
   ],
   "source": [
    "from keras import layers\n",
    "from keras import models\n",
    "\n",
    "model = models.Sequential()\n",
    "model.add(layers.Conv2D(32, (3, 3), activation='relu',\n",
    "                        input_shape=(150, 150, 3)))\n",
    "model.add(layers.MaxPooling2D((2, 2)))\n",
    "model.add(layers.Conv2D(64, (3, 3), activation='relu'))\n",
    "model.add(layers.MaxPooling2D((2, 2)))\n",
    "model.add(layers.Conv2D(128, (3, 3), activation='relu'))\n",
    "model.add(layers.MaxPooling2D((2, 2)))\n",
    "model.add(layers.Conv2D(128, (3, 3), activation='relu'))\n",
    "model.add(layers.MaxPooling2D((2, 2)))\n",
    "model.add(layers.Flatten())\n",
    "model.add(layers.Dense(512, activation='relu'))\n",
    "model.add(layers.Dense(1, activation='sigmoid'))\n",
    "\n",
    "model.summary()"
   ]
  },
  {
   "cell_type": "code",
   "execution_count": 9,
   "metadata": {},
   "outputs": [],
   "source": [
    "from keras import optimizers\n",
    "\n",
    "model.compile(optimizer=optimizers.RMSprop(lr=1e-4), \n",
    "              loss='binary_crossentropy', metrics=['acc'])"
   ]
  },
  {
   "cell_type": "markdown",
   "metadata": {},
   "source": [
    "## Preprocesando los datos "
   ]
  },
  {
   "cell_type": "code",
   "execution_count": 10,
   "metadata": {},
   "outputs": [
    {
     "name": "stdout",
     "output_type": "stream",
     "text": [
      "Found 938 images belonging to 2 classes.\n",
      "Found 461 images belonging to 2 classes.\n"
     ]
    }
   ],
   "source": [
    "from keras.preprocessing.image import ImageDataGenerator\n",
    "\n",
    "# Re-escalamos las imagenes\n",
    "train_datagen = ImageDataGenerator(rescale=1./255)\n",
    "test_datagen = ImageDataGenerator(rescale=1./255)\n",
    "\n",
    "train_generator = train_datagen.flow_from_directory(directory=train_dir,\n",
    "                                                    target_size=(150, 150),\n",
    "                                                    batch_size=20,\n",
    "                                                    class_mode='binary')\n",
    "\n",
    "validation_generator = test_datagen.flow_from_directory(directory=validation_dir,\n",
    "                                                        target_size=(150, 150),\n",
    "                                                        batch_size=20,\n",
    "                                                        class_mode='binary')"
   ]
  },
  {
   "cell_type": "code",
   "execution_count": 11,
   "metadata": {},
   "outputs": [
    {
     "name": "stdout",
     "output_type": "stream",
     "text": [
      "data batch shape: (20, 150, 150, 3)\n",
      "labels batch shape: (20,)\n"
     ]
    }
   ],
   "source": [
    "for data_batch, labels_batch in train_generator:\n",
    "    print('data batch shape:', data_batch.shape)\n",
    "    print('labels batch shape:', labels_batch.shape)\n",
    "    break"
   ]
  },
  {
   "cell_type": "markdown",
   "metadata": {},
   "source": [
    "## Entrenando la red "
   ]
  },
  {
   "cell_type": "markdown",
   "metadata": {},
   "source": [
    "Problema con algunas imágenes truncadas y posible solución [aquí](https://stackoverflow.com/questions/12984426/python-pil-ioerror-image-file-truncated-with-big-images):"
   ]
  },
  {
   "cell_type": "code",
   "execution_count": 12,
   "metadata": {},
   "outputs": [
    {
     "name": "stdout",
     "output_type": "stream",
     "text": [
      "Epoch 1/30\n",
      "100/100 [==============================] - 176s 2s/step - loss: 0.6162 - acc: 0.6697 - val_loss: 0.5708 - val_acc: 0.6923\n",
      "Epoch 2/30\n",
      "100/100 [==============================] - 189s 2s/step - loss: 0.4835 - acc: 0.7746 - val_loss: 0.8847 - val_acc: 0.5551\n",
      "Epoch 3/30\n",
      "100/100 [==============================] - 175s 2s/step - loss: 0.4294 - acc: 0.8082 - val_loss: 0.4556 - val_acc: 0.7620\n",
      "Epoch 4/30\n",
      "100/100 [==============================] - 170s 2s/step - loss: 0.3918 - acc: 0.8278 - val_loss: 0.4339 - val_acc: 0.7931\n",
      "Epoch 5/30\n",
      "100/100 [==============================] - 176s 2s/step - loss: 0.3569 - acc: 0.8467 - val_loss: 0.4131 - val_acc: 0.8108\n",
      "Epoch 6/30\n",
      "100/100 [==============================] - 175s 2s/step - loss: 0.3164 - acc: 0.8668 - val_loss: 0.3747 - val_acc: 0.8534\n",
      "Epoch 7/30\n",
      "100/100 [==============================] - 171s 2s/step - loss: 0.2784 - acc: 0.8877 - val_loss: 0.4115 - val_acc: 0.8462\n",
      "Epoch 8/30\n",
      "100/100 [==============================] - 179s 2s/step - loss: 0.2429 - acc: 0.9033 - val_loss: 0.3622 - val_acc: 0.8555\n",
      "Epoch 9/30\n",
      "100/100 [==============================] - 183s 2s/step - loss: 0.2104 - acc: 0.9174 - val_loss: 0.3877 - val_acc: 0.8347\n",
      "Epoch 10/30\n",
      "100/100 [==============================] - 179s 2s/step - loss: 0.1822 - acc: 0.9347 - val_loss: 0.4060 - val_acc: 0.8534\n",
      "Epoch 11/30\n",
      "100/100 [==============================] - 175s 2s/step - loss: 0.1533 - acc: 0.9515 - val_loss: 0.5108 - val_acc: 0.7952\n",
      "Epoch 12/30\n",
      "100/100 [==============================] - 180s 2s/step - loss: 0.1344 - acc: 0.9569 - val_loss: 0.4395 - val_acc: 0.8537\n",
      "Epoch 13/30\n",
      "100/100 [==============================] - 157s 2s/step - loss: 0.0991 - acc: 0.9638 - val_loss: 0.4417 - val_acc: 0.8358\n",
      "Epoch 14/30\n",
      "100/100 [==============================] - 127s 1s/step - loss: 0.0992 - acc: 0.9619 - val_loss: 0.5151 - val_acc: 0.8430\n",
      "Epoch 15/30\n",
      "100/100 [==============================] - 122s 1s/step - loss: 0.0783 - acc: 0.9714 - val_loss: 0.4768 - val_acc: 0.8472\n",
      "Epoch 16/30\n",
      "100/100 [==============================] - 133s 1s/step - loss: 0.0723 - acc: 0.9694 - val_loss: 0.5213 - val_acc: 0.8462\n",
      "Epoch 17/30\n",
      "100/100 [==============================] - 133s 1s/step - loss: 0.0617 - acc: 0.9759 - val_loss: 0.6314 - val_acc: 0.8077\n",
      "Epoch 18/30\n",
      "100/100 [==============================] - 136s 1s/step - loss: 0.0535 - acc: 0.9784 - val_loss: 0.5988 - val_acc: 0.8264\n",
      "Epoch 19/30\n",
      "100/100 [==============================] - 135s 1s/step - loss: 0.0482 - acc: 0.9810 - val_loss: 0.5829 - val_acc: 0.8274\n",
      "Epoch 20/30\n",
      "100/100 [==============================] - 133s 1s/step - loss: 0.0428 - acc: 0.9819 - val_loss: 0.6190 - val_acc: 0.8441\n",
      "Epoch 21/30\n",
      "100/100 [==============================] - 135s 1s/step - loss: 0.0445 - acc: 0.9815 - val_loss: 0.6283 - val_acc: 0.8378\n",
      "Epoch 22/30\n",
      "100/100 [==============================] - 134s 1s/step - loss: 0.0501 - acc: 0.9779 - val_loss: 0.6520 - val_acc: 0.8399\n",
      "Epoch 23/30\n",
      "100/100 [==============================] - 134s 1s/step - loss: 0.0418 - acc: 0.9809 - val_loss: 0.6461 - val_acc: 0.8410\n",
      "Epoch 24/30\n",
      "100/100 [==============================] - 135s 1s/step - loss: 0.0443 - acc: 0.9780 - val_loss: 0.6684 - val_acc: 0.8346\n",
      "Epoch 25/30\n",
      "100/100 [==============================] - 137s 1s/step - loss: 0.0332 - acc: 0.9839 - val_loss: 0.7035 - val_acc: 0.8378\n",
      "Epoch 26/30\n",
      "100/100 [==============================] - 137s 1s/step - loss: 0.0447 - acc: 0.9815 - val_loss: 0.7679 - val_acc: 0.8285\n",
      "Epoch 27/30\n",
      "100/100 [==============================] - 137s 1s/step - loss: 0.0416 - acc: 0.9784 - val_loss: 0.6714 - val_acc: 0.8378\n",
      "Epoch 28/30\n",
      "100/100 [==============================] - 132s 1s/step - loss: 0.0413 - acc: 0.9824 - val_loss: 0.7710 - val_acc: 0.8233\n",
      "Epoch 29/30\n",
      "100/100 [==============================] - 130s 1s/step - loss: 0.0323 - acc: 0.9839 - val_loss: 0.7304 - val_acc: 0.8358\n",
      "Epoch 30/30\n",
      "100/100 [==============================] - 133s 1s/step - loss: 0.0344 - acc: 0.9850 - val_loss: 0.7918 - val_acc: 0.8337\n"
     ]
    }
   ],
   "source": [
    "from PIL import ImageFile\n",
    "ImageFile.LOAD_TRUNCATED_IMAGES = True\n",
    "\n",
    "history = model.fit_generator(generator=train_generator,\n",
    "                              steps_per_epoch=100,\n",
    "                              epochs=30,\n",
    "                              validation_data=validation_generator,\n",
    "                              validation_steps=50)"
   ]
  },
  {
   "cell_type": "code",
   "execution_count": 14,
   "metadata": {},
   "outputs": [
    {
     "data": {
      "image/png": "[encoded data removed]",
      "text/plain": [
       "<Figure size 1080x504 with 2 Axes>"
      ]
     },
     "metadata": {
      "needs_background": "light"
     },
     "output_type": "display_data"
    }
   ],
   "source": [
    "import matplotlib.pyplot as plt\n",
    "\n",
    "fig, ax = plt.subplots(1, 2)\n",
    "fig.set_size_inches(15, 7)\n",
    "\n",
    "# Accuracy\n",
    "ax[0].plot(range(30), history.history['acc'], \n",
    "           'b-.', label='Training acc')\n",
    "ax[0].plot(range(30), history.history['val_acc'], \n",
    "           'g-.', label='Validation acc')\n",
    "ax[0].set_title('Accuracy for training and validation sets')\n",
    "ax[0].legend()\n",
    "\n",
    "# Loss\n",
    "ax[1].plot(range(30), history.history['loss'], \n",
    "           'b-.', label='Training loss')\n",
    "ax[1].plot(range(30), history.history['val_loss'], \n",
    "           'g-.', label='Validation loss')\n",
    "ax[1].set_title('Losses for training and validation sets')\n",
    "ax[1].legend()\n",
    "\n",
    "plt.show()"
   ]
  },
  {
   "cell_type": "markdown",
   "metadata": {},
   "source": [
    "Estas gráficas nos indican que la red neuronal está sobreajustando: llega un punto (en torno a la época 5) en el que el accuracy del conjunto de validación se estanca en el ~85%, y las pérdidas en el conjunto de validación sólo empeoran mientras que en el conjunto de entrenamiento sigue mejorando tanto el accuracy como las pérdidas."
   ]
  },
  {
   "cell_type": "markdown",
   "metadata": {},
   "source": [
    "Guardamos el modelo:"
   ]
  },
  {
   "cell_type": "code",
   "execution_count": 15,
   "metadata": {},
   "outputs": [],
   "source": [
    "model.save('net_bikes_scooters.h5')"
   ]
  },
  {
   "cell_type": "markdown",
   "metadata": {},
   "source": [
    "Ahora evalua el modelo en el dataset de test."
   ]
  },
  {
   "cell_type": "code",
   "execution_count": 16,
   "metadata": {},
   "outputs": [
    {
     "name": "stdout",
     "output_type": "stream",
     "text": [
      "Found 401 images belonging to 2 classes.\n"
     ]
    }
   ],
   "source": [
    "test_generator = test_datagen.flow_from_directory(directory=test_dir,\n",
    "                                                  target_size=(150, 150),\n",
    "                                                  batch_size=100,\n",
    "                                                  class_mode='binary')"
   ]
  },
  {
   "cell_type": "code",
   "execution_count": 17,
   "metadata": {},
   "outputs": [
    {
     "name": "stdout",
     "output_type": "stream",
     "text": [
      "5/5 [==============================] - 15s 3s/step\n"
     ]
    }
   ],
   "source": [
    "test_loss, test_acc = model.evaluate_generator(generator=test_generator, \n",
    "                                               steps=None, verbose=1)"
   ]
  },
  {
   "cell_type": "code",
   "execution_count": 18,
   "metadata": {},
   "outputs": [
    {
     "name": "stdout",
     "output_type": "stream",
     "text": [
      "Con el conjunto de test, las perdidas son 0.5607292622402125, y el accuracy 0.8603491242092447\n"
     ]
    }
   ],
   "source": [
    "print('Con el conjunto de test, las perdidas son {0}, y el accuracy {1}'.format(test_loss, test_acc))"
   ]
  },
  {
   "cell_type": "markdown",
   "metadata": {},
   "source": [
    "A pesar del sobreajuste, nuestra red neuronal consigue un ~86% de accuracy en los datos de test, que no está mal sobre todo si tenemos en cuenta que las imágenes que estamos usando no están excesivamente curadas (como probablemente lo estaban las anteriores sobre perros y gatos).\n",
    "\n",
    "En cualquier caso, vamos a probar a usar la técnica de *early-stopping* para que el entrenamiento pare cuando no se aprecie mejora en las pérdidas del conjunto de validación."
   ]
  },
  {
   "cell_type": "markdown",
   "metadata": {},
   "source": [
    "## Con early-stopping:"
   ]
  },
  {
   "cell_type": "code",
   "execution_count": 19,
   "metadata": {},
   "outputs": [
    {
     "name": "stdout",
     "output_type": "stream",
     "text": [
      "_________________________________________________________________\n",
      "Layer (type)                 Output Shape              Param #   \n",
      "=================================================================\n",
      "conv2d_5 (Conv2D)            (None, 148, 148, 32)      896       \n",
      "_________________________________________________________________\n",
      "max_pooling2d_5 (MaxPooling2 (None, 74, 74, 32)        0         \n",
      "_________________________________________________________________\n",
      "conv2d_6 (Conv2D)            (None, 72, 72, 64)        18496     \n",
      "_________________________________________________________________\n",
      "max_pooling2d_6 (MaxPooling2 (None, 36, 36, 64)        0         \n",
      "_________________________________________________________________\n",
      "conv2d_7 (Conv2D)            (None, 34, 34, 128)       73856     \n",
      "_________________________________________________________________\n",
      "max_pooling2d_7 (MaxPooling2 (None, 17, 17, 128)       0         \n",
      "_________________________________________________________________\n",
      "conv2d_8 (Conv2D)            (None, 15, 15, 128)       147584    \n",
      "_________________________________________________________________\n",
      "max_pooling2d_8 (MaxPooling2 (None, 7, 7, 128)         0         \n",
      "_________________________________________________________________\n",
      "flatten_2 (Flatten)          (None, 6272)              0         \n",
      "_________________________________________________________________\n",
      "dense_3 (Dense)              (None, 512)               3211776   \n",
      "_________________________________________________________________\n",
      "dense_4 (Dense)              (None, 1)                 513       \n",
      "=================================================================\n",
      "Total params: 3,453,121\n",
      "Trainable params: 3,453,121\n",
      "Non-trainable params: 0\n",
      "_________________________________________________________________\n"
     ]
    }
   ],
   "source": [
    "model = models.Sequential()\n",
    "model.add(layers.Conv2D(32, (3, 3), activation='relu',\n",
    "                        input_shape=(150, 150, 3)))\n",
    "model.add(layers.MaxPooling2D((2, 2)))\n",
    "model.add(layers.Conv2D(64, (3, 3), activation='relu'))\n",
    "model.add(layers.MaxPooling2D((2, 2)))\n",
    "model.add(layers.Conv2D(128, (3, 3), activation='relu'))\n",
    "model.add(layers.MaxPooling2D((2, 2)))\n",
    "model.add(layers.Conv2D(128, (3, 3), activation='relu'))\n",
    "model.add(layers.MaxPooling2D((2, 2)))\n",
    "model.add(layers.Flatten())\n",
    "model.add(layers.Dense(512, activation='relu'))\n",
    "model.add(layers.Dense(1, activation='sigmoid'))\n",
    "\n",
    "model.summary()"
   ]
  },
  {
   "cell_type": "code",
   "execution_count": 20,
   "metadata": {},
   "outputs": [],
   "source": [
    "model.compile(optimizer=optimizers.RMSprop(lr=1e-4), \n",
    "              loss='binary_crossentropy', metrics=['acc'])"
   ]
  },
  {
   "cell_type": "code",
   "execution_count": 21,
   "metadata": {},
   "outputs": [
    {
     "name": "stdout",
     "output_type": "stream",
     "text": [
      "Epoch 1/30\n",
      "100/100 [==============================] - 136s 1s/step - loss: 0.6152 - acc: 0.6743 - val_loss: 0.5173 - val_acc: 0.7484\n",
      "Epoch 2/30\n",
      "100/100 [==============================] - 130s 1s/step - loss: 0.4850 - acc: 0.7806 - val_loss: 0.4760 - val_acc: 0.7620\n",
      "Epoch 3/30\n",
      "100/100 [==============================] - 119s 1s/step - loss: 0.4591 - acc: 0.7895 - val_loss: 0.4642 - val_acc: 0.7682\n",
      "Epoch 4/30\n",
      "100/100 [==============================] - 130s 1s/step - loss: 0.3930 - acc: 0.8307 - val_loss: 0.4052 - val_acc: 0.8202\n",
      "Epoch 5/30\n",
      "100/100 [==============================] - 132s 1s/step - loss: 0.3727 - acc: 0.8422 - val_loss: 0.3704 - val_acc: 0.8316\n",
      "Epoch 6/30\n",
      "100/100 [==============================] - 131s 1s/step - loss: 0.3233 - acc: 0.8654 - val_loss: 0.3658 - val_acc: 0.8358\n",
      "Epoch 7/30\n",
      "100/100 [==============================] - 131s 1s/step - loss: 0.2853 - acc: 0.8801 - val_loss: 0.3306 - val_acc: 0.8555\n",
      "Epoch 8/30\n",
      "100/100 [==============================] - 134s 1s/step - loss: 0.2482 - acc: 0.8978 - val_loss: 0.5298 - val_acc: 0.7557\n",
      "Epoch 9/30\n",
      "100/100 [==============================] - 132s 1s/step - loss: 0.2156 - acc: 0.9208 - val_loss: 0.3367 - val_acc: 0.8576\n",
      "Epoch 10/30\n",
      "100/100 [==============================] - 133s 1s/step - loss: 0.1861 - acc: 0.9242 - val_loss: 0.3619 - val_acc: 0.8503\n"
     ]
    }
   ],
   "source": [
    "early_stop = [keras.callbacks.EarlyStopping(monitor='val_loss', patience=3)]\n",
    "\n",
    "history1 = model.fit_generator(generator=train_generator,\n",
    "                               steps_per_epoch=100,\n",
    "                               epochs=30,\n",
    "                               validation_data=validation_generator,\n",
    "                               validation_steps=50, \n",
    "                               callbacks=early_stop)"
   ]
  },
  {
   "cell_type": "code",
   "execution_count": 22,
   "metadata": {},
   "outputs": [
    {
     "data": {
      "image/png": "[encoded data removed]",
      "text/plain": [
       "<Figure size 1080x504 with 2 Axes>"
      ]
     },
     "metadata": {
      "needs_background": "light"
     },
     "output_type": "display_data"
    }
   ],
   "source": [
    "import matplotlib.pyplot as plt\n",
    "\n",
    "fig, ax = plt.subplots(1, 2)\n",
    "fig.set_size_inches(15, 7)\n",
    "\n",
    "# Accuracy\n",
    "ax[0].plot(range(10), history1.history['acc'], \n",
    "           'b-.', label='Training acc')\n",
    "ax[0].plot(range(10), history1.history['val_acc'], \n",
    "           'g-.', label='Validation acc')\n",
    "ax[0].set_title('Accuracy for training and validation sets')\n",
    "ax[0].legend()\n",
    "\n",
    "# Loss\n",
    "ax[1].plot(range(10), history1.history['loss'], \n",
    "           'b-.', label='Training loss')\n",
    "ax[1].plot(range(10), history1.history['val_loss'], \n",
    "           'g-.', label='Validation loss')\n",
    "ax[1].set_title('Losses for training and validation sets')\n",
    "ax[1].legend()\n",
    "\n",
    "plt.show()"
   ]
  },
  {
   "cell_type": "markdown",
   "metadata": {},
   "source": [
    "Guardamos el modelo:"
   ]
  },
  {
   "cell_type": "code",
   "execution_count": 23,
   "metadata": {},
   "outputs": [],
   "source": [
    "model.save('net_bikes_scooters_early.h5')"
   ]
  },
  {
   "cell_type": "markdown",
   "metadata": {},
   "source": [
    "Ahora evalua el modelo en el dataset de test."
   ]
  },
  {
   "cell_type": "code",
   "execution_count": 24,
   "metadata": {},
   "outputs": [
    {
     "name": "stdout",
     "output_type": "stream",
     "text": [
      "Found 401 images belonging to 2 classes.\n"
     ]
    }
   ],
   "source": [
    "test_generator = test_datagen.flow_from_directory(directory=test_dir,\n",
    "                                                  target_size=(150, 150),\n",
    "                                                  batch_size=100,\n",
    "                                                  class_mode='binary')"
   ]
  },
  {
   "cell_type": "code",
   "execution_count": 25,
   "metadata": {},
   "outputs": [
    {
     "name": "stdout",
     "output_type": "stream",
     "text": [
      "5/5 [==============================] - 13s 3s/step\n"
     ]
    }
   ],
   "source": [
    "test_loss, test_acc = model.evaluate_generator(generator=test_generator, \n",
    "                                               steps=None, verbose=1)"
   ]
  },
  {
   "cell_type": "code",
   "execution_count": 26,
   "metadata": {},
   "outputs": [
    {
     "name": "stdout",
     "output_type": "stream",
     "text": [
      "Con el conjunto de test, las perdidas son 0.3237931989040458, y el accuracy 0.8653366530030743\n"
     ]
    }
   ],
   "source": [
    "print('Con el conjunto de test, las perdidas son {0}, y el accuracy {1}'.format(test_loss, test_acc))"
   ]
  },
  {
   "cell_type": "markdown",
   "metadata": {},
   "source": [
    "En conclusión, ahora hemos conseguido una red neuronal usando una tercera parte del tiempo de entrenamiento, y además obtenemos en el conjunto de test menos pérdidas (de 0.561 a 0.324) e incluso un poco más de accuracy (0.8604 frente a 0.8653).\n",
    "\n",
    "De todos modos esto se podría mejorar de muchas maneras: probando otras topologías de red, usando un `GridSearchCV` para buscar parámetros óptimos, curando y ampliando nuestras imágenes sobre bicicletas y scooters... Sobre todo la parte de la optimización es complicada sin el uso de hardware especializado y mayor tiempo de entrenamiento y pruebas, pero con todo y con eso conseguimos un resultado razonablemente bueno."
   ]
  }
 ],
 "metadata": {
  "kernelspec": {
   "display_name": "Python 3",
   "language": "python",
   "name": "python3"
  },
  "language_info": {
   "codemirror_mode": {
    "name": "ipython",
    "version": 3
   },
   "file_extension": ".py",
   "mimetype": "text/x-python",
   "name": "python",
   "nbconvert_exporter": "python",
   "pygments_lexer": "ipython3",
   "version": "3.6.6"
  },
  "latex_envs": {
   "LaTeX_envs_menu_present": true,
   "autoclose": false,
   "autocomplete": true,
   "bibliofile": "biblio.bib",
   "cite_by": "apalike",
   "current_citInitial": 1,
   "eqLabelWithNumbers": true,
   "eqNumInitial": 1,
   "hotkeys": {
    "equation": "Ctrl-E",
    "itemize": "Ctrl-I"
   },
   "labels_anchors": false,
   "latex_user_defs": false,
   "report_style_numbering": false,
   "user_envs_cfg": false
  },
  "toc": {
   "base_numbering": 1,
   "nav_menu": {},
   "number_sections": true,
   "sideBar": true,
   "skip_h1_title": false,
   "title_cell": "Table of Contents",
   "title_sidebar": "Contents",
   "toc_cell": false,
   "toc_position": {
    "height": "calc(100% - 180px)",
    "left": "10px",
    "top": "150px",
    "width": "245.4px"
   },
   "toc_section_display": true,
   "toc_window_display": true
  }
 },
 "nbformat": 4,
 "nbformat_minor": 2
}
